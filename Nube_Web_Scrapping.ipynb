{
  "nbformat": 4,
  "nbformat_minor": 0,
  "metadata": {
    "colab": {
      "provenance": [],
      "authorship_tag": "ABX9TyM8cJ/GFD8jhDo2w8xnhKEI",
      "include_colab_link": true
    },
    "kernelspec": {
      "name": "python3",
      "display_name": "Python 3"
    },
    "language_info": {
      "name": "python"
    }
  },
  "cells": [
    {
      "cell_type": "markdown",
      "metadata": {
        "id": "view-in-github",
        "colab_type": "text"
      },
      "source": [
        "<a href=\"https://colab.research.google.com/github/MarcoATL/MachineLearning/blob/main/Nube_Web_Scrapping.ipynb\" target=\"_parent\"><img src=\"https://colab.research.google.com/assets/colab-badge.svg\" alt=\"Open In Colab\"/></a>"
      ]
    },
    {
      "cell_type": "code",
      "execution_count": null,
      "metadata": {
        "colab": {
          "base_uri": "https://localhost:8080/"
        },
        "id": "pGDdc8G3SGIM",
        "outputId": "98d5e8dc-e162-4da4-a99c-bb07b6527a8c"
      },
      "outputs": [
        {
          "output_type": "stream",
          "name": "stdout",
          "text": [
            "precio por metro cuadrado: 70866.14173228346\n",
            "precio por metro cuadrado: 48679.24528301887\n",
            "precio por metro cuadrado: 72894.73684210527\n",
            "precio por metro cuadrado: 65384.61538461538\n",
            "precio por metro cuadrado: 47732.6968973747\n",
            "precio por metro cuadrado: 2027.027027027027\n",
            "precio por metro cuadrado: 80508.47457627118\n",
            "precio por metro cuadrado: 57324.85207100592\n",
            "precio por metro cuadrado: 65625.0\n",
            "precio por metro cuadrado: 65098.958333333336\n",
            "precio por metro cuadrado: 39784.94623655914\n",
            "precio por metro cuadrado: 76521.73913043478\n",
            "precio por metro cuadrado: 98768.79310344828\n",
            "precio por metro cuadrado: 69620.25316455697\n",
            "precio por metro cuadrado: 53448.275862068964\n",
            "precio por metro cuadrado: 66219.51219512195\n",
            "precio por metro cuadrado: 62500.0\n",
            "precio por metro cuadrado: 98333.33333333333\n",
            "precio por metro cuadrado: 42040.816326530614\n",
            "precio por metro cuadrado: 59608.680555555555\n",
            "precio por metro cuadrado: 65625.0\n",
            "precio por metro cuadrado: 51428.57142857143\n",
            "precio por metro cuadrado: 57761.008771929824\n",
            "precio por metro cuadrado: 72881.35593220338\n",
            "24\n",
            "[70866.14173228346, 48679.24528301887, 72894.73684210527, 65384.61538461538, 47732.6968973747, 2027.027027027027, 80508.47457627118, 57324.85207100592, 65625.0, 65098.958333333336, 39784.94623655914, 76521.73913043478, 98768.79310344828, 69620.25316455697, 53448.275862068964, 66219.51219512195, 62500.0, 98333.33333333333, 42040.816326530614, 59608.680555555555, 65625.0, 51428.57142857143, 57761.008771929824, 72881.35593220338]\n",
            "precio promedio por metro cuadrado: 62111.83475780622\n"
          ]
        }
      ],
      "source": [
        "import requests\n",
        "from bs4 import BeautifulSoup\n",
        "import csv\n",
        "\n",
        "URL = \"https://www.lamudi.com.mx/distrito-federal/miguel-hidalgo/for-sale/\"\n",
        "\n",
        "page = requests.get(URL, headers= {'User-Agent': 'Mozilla/5.0'})#obtiene el contenido de una pagina web\n",
        "#'User-Agent' permite a los servidores identificar nuestro programa\n",
        "soup = BeautifulSoup(page.content, \"html.parser\")#crea la sopa: arbol de obbjetos que representan\n",
        "                                                  #el parses analiza una cadena de símbolos y transfoma\n",
        "\n",
        "results = soup.find_all(class_=\"ListingCell-KeyInfo-price\")#busqueda de elementos deseados \n",
        "\n",
        "f= open('precios_lamudi.html',\"w\")\n",
        "f.write(str(soup))\n",
        "f.close()\n",
        "\n",
        "#####################################################################\n",
        "with open('precios_lamudi.csv','w') as csvfile:\n",
        "  fieldnames = ['precio','metro cuadrado','ID']\n",
        "  writer = csv.DictWriter(csvfile,fieldnames=fieldnames)\n",
        "  writer.writeheader()\n",
        "#####################################################################\n",
        "\n",
        "promedios =[]\n",
        "\n",
        "for resul in results: \n",
        "  x=resul.getText().split()\n",
        "  #print(x)\n",
        "  if (x[1].replace(\",\",\"\").isdigit()==True):\n",
        "    #print(x[1].replace(\",\",\"\"))\n",
        "    if(len(x)>=7):\n",
        "      if (x[6].isdigit()==True):\n",
        "        precio = float(x[1].replace(\",\",\"\"))\n",
        "        metros = float(x[6])\n",
        "        promedio = precio/metros\n",
        "        print(\"precio por metro cuadrado: \"+str(promedio))\n",
        "        promedios.append(promedio)\n",
        "\n",
        "print(len(promedios))\n",
        "print(promedios)\n",
        "prom_m2 = sum(promedios)/len(promedios)\n",
        "\n",
        "print(\"precio promedio por metro cuadrado: \"+str(prom_m2))"
      ]
    },
    {
      "cell_type": "code",
      "source": [
        "import requests\n",
        "from bs4 import BeautifulSoup\n",
        "\n",
        "\n",
        "URL = \"https://scholar.google.com.mx/citations?user=g_nsXN8AAAAJ&hl=es&oi=ao\"\n",
        "page = requests.get(URL, headers= {'User-Agent': 'Mozilla/5.0'})\n",
        "soup = BeautifulSoup(page.content, \"html.parser\")\n",
        "\n",
        "results = soup.find_all(class_=\"gsc_a_ac gs_ibl\")\n",
        "f= open('google_academico.html',\"w\")\n",
        "f.write(str(soup))\n",
        "f.close()\n",
        "\n",
        "promedios =[]\n",
        "\n",
        "for result in results:\n",
        "  print(result.getText())"
      ],
      "metadata": {
        "colab": {
          "base_uri": "https://localhost:8080/"
        },
        "id": "CrGtVFNEc3Ra",
        "outputId": "d97a5540-6dce-479d-e076-369a8f24aece"
      },
      "execution_count": null,
      "outputs": [
        {
          "output_type": "stream",
          "name": "stdout",
          "text": [
            "948\n",
            "427\n",
            "296\n",
            "173\n",
            "169\n",
            "154\n",
            "151\n",
            "133\n",
            "111\n",
            "79\n",
            "60\n",
            "57\n",
            "50\n",
            "46\n",
            "38\n",
            "18\n",
            "15\n",
            "3\n",
            "2\n",
            "\n"
          ]
        }
      ]
    },
    {
      "cell_type": "code",
      "source": [
        "import requests\n",
        "from bs4 import BeautifulSoup\n",
        "import csv\n",
        "\n",
        "URL = \"https://www.lamudi.com.mx/distrito-federal/miguel-hidalgo/for-sale/\"\n",
        "\n",
        "page = requests.get(URL, headers= {'User-Agent': 'Mozilla/5.0'})#obtiene el contenido de una pagina web\n",
        "#'User-Agent' permite a los servidores identificar nuestro programa\n",
        "soup = BeautifulSoup(page.content, \"html.parser\")#crea la sopa: arbol de obbjetos que representan\n",
        "                                                  #el parses analiza una cadena de símbolos y transfoma\n",
        "\n",
        "results = soup.find_all(class_=\"ListingCell-KeyInfo-price\")#busqueda de elementos deseados \n",
        "\n",
        "f= open('precios_lamudi.html',\"w\")\n",
        "f.write(str(soup))\n",
        "f.close()\n",
        "\n",
        "#####################################################################\n",
        "with open('precios_lamudi.csv','w') as csvfile:\n",
        "  fieldnames = ['precio','metro cuadrado','ID']\n",
        "  writer = csv.DictWriter(csvfile,fieldnames=fieldnames)\n",
        "  writer.writeheader()\n",
        "#####################################################################\n",
        "\n",
        "a=0\n",
        "\n",
        "for resul in results:\n",
        "  x=resul.getText().split()\n",
        "  if (len(x)>=7):\n",
        "    print(x)\n",
        "    precio=x[1].replace(\",\",\"\")\n",
        "    dimension=x[6].replace(\",\",\"\")\n",
        "    if (precio.isdigit()==True and dimension.isdigit()==True):\n",
        "      print(x[1].replace(\",\",\"\"))\n",
        "      with open('precios_lamudi.csv','a') as csvfile:\n",
        "        fieldnames=['precio','metro cuadrado','ID']\n",
        "        writer=csv.DictWriter(csvfile,fieldnames=fieldnames)\n",
        "        writer.writerow({'precio':x[1].replace(\",\",\"\"),'metro cuadrado':dimension,'ID':a})\n",
        "        a+=1"
      ],
      "metadata": {
        "colab": {
          "base_uri": "https://localhost:8080/"
        },
        "id": "H_jHn-8iEG3a",
        "outputId": "988fd158-f651-48cc-82ea-b44a38a17ead"
      },
      "execution_count": null,
      "outputs": [
        {
          "output_type": "stream",
          "name": "stdout",
          "text": [
            "['$', '18,000,000', '3', 'Recámaras', '2', 'Baños', '254', 'm²', 'Construidos']\n",
            "18000000\n",
            "['Contactar', 'agente', 'para', 'saber', 'precio', '2', 'Recámaras', '3', 'Baños', '250', 'm²', 'Construidos']\n",
            "['$', '12,900,000', '3', 'Recámaras', '4', 'Baños', '265', 'm²', 'Construidos']\n",
            "12900000\n",
            "['$', '13,850,000', '3', 'Recámaras', '2', 'Baños', '190', 'm²', 'Construidos']\n",
            "13850000\n",
            "['$', '20,000,000', '2', 'Recámaras', '3', 'Baños', '419', 'm²', 'Construidos']\n",
            "20000000\n",
            "['$', '8,500,000', '3', 'Recámaras', '2', 'Baños', '130', 'm²', 'Construidos']\n",
            "8500000\n",
            "['US$', '750,000', '3', 'Recámaras', '3', 'Baños', '370', 'm²', 'Construidos']\n",
            "750000\n",
            "['$', '9,500,000', '2', 'Recámaras', '3', 'Baños', '118', 'm²', 'Construidos']\n",
            "9500000\n",
            "['$', '9,687,900', '3', 'Recámaras', '3', 'Baños', '169', 'm²', 'Construidos']\n",
            "9687900\n",
            "['$', '12,499,000', '3', 'Recámaras', '2', 'Baños', '192', 'm²', 'Construidos']\n",
            "12499000\n",
            "['$', '6,300,000', '2', 'Recámaras', '2', 'Baños', '96', 'm²', 'Construidos']\n",
            "6300000\n",
            "['$', '14,800,000', '3', 'Recámaras', '3', 'Baños', '372', 'm²', 'Construidos']\n",
            "14800000\n",
            "['$', '8,800,000', '2', 'Recámaras', '3', 'Baños', '115', 'm²', 'Construidos']\n",
            "8800000\n",
            "['$', '16,500,000', '3', 'Recámaras', '3', 'Baños', '237', 'm²', 'Construidos']\n",
            "16500000\n",
            "['$', '5,728,590', '1', 'Recámara', '1', 'Baño', '58', 'm²', 'Construidos']\n",
            "5728590\n",
            "['$', '11,000,000', '2', 'Ambientes', '462', 'm²', 'Superficie', 'construida', '14/03/22', 'Disponible', 'desde']\n",
            "['$', '15,500,000', '3', 'Recámaras', '5', 'Baños', '290', 'm²', 'Construidos']\n",
            "15500000\n",
            "['$', '5,430,000', '2', 'Recámaras', '2', 'Baños', '82', 'm²', 'Construidos']\n",
            "5430000\n",
            "['$', '12,500,000', '3', 'Recámaras', '3', 'Baños', '200', 'm²', 'Construidos']\n",
            "12500000\n",
            "['$', '5,900,000', '1', 'Recámara', '1', 'Baño', '60', 'm²', 'Construidos']\n",
            "5900000\n",
            "['$', '10,300,000', '3', 'Recámaras', '3', 'Baños', '245', 'm²', 'Construidos']\n",
            "10300000\n",
            "['$', '4,291,825', '2', 'Recámaras', '2', 'Baños', '72', 'm²', 'Construidos']\n",
            "4291825\n",
            "['$', '5,250,000', '2', 'Recámaras', '2', 'Baños', '80', 'm²', 'Construidos']\n",
            "5250000\n",
            "['$', '18,000,000', '3', 'Recámaras', '4', 'Baños', '350', 'm²', 'Construidos']\n",
            "18000000\n",
            "['$', '6,584,755', '2', 'Recámaras', '3', 'Baños', '114', 'm²', 'Construidos']\n",
            "6584755\n",
            "['$', '8,600,000', '2', 'Recámaras', '3', 'Baños', '118', 'm²', 'Construidos']\n",
            "8600000\n",
            "['$', '8,950,000', '6', 'Ambientes', '110', 'm²', 'Superficie', 'construida']\n"
          ]
        }
      ]
    }
  ]
}
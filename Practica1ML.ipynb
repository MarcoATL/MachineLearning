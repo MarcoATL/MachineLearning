{
  "nbformat": 4,
  "nbformat_minor": 0,
  "metadata": {
    "colab": {
      "provenance": [],
      "authorship_tag": "ABX9TyOGVcVMHWIezORm7ESmuDN3",
      "include_colab_link": true
    },
    "kernelspec": {
      "name": "python3",
      "display_name": "Python 3"
    },
    "language_info": {
      "name": "python"
    }
  },
  "cells": [
    {
      "cell_type": "markdown",
      "metadata": {
        "id": "view-in-github",
        "colab_type": "text"
      },
      "source": [
        "<a href=\"https://colab.research.google.com/github/MarcoATL/MachineLearning/blob/main/Practica1ML.ipynb\" target=\"_parent\"><img src=\"https://colab.research.google.com/assets/colab-badge.svg\" alt=\"Open In Colab\"/></a>"
      ]
    },
    {
      "cell_type": "code",
      "execution_count": null,
      "metadata": {
        "colab": {
          "base_uri": "https://localhost:8080/"
        },
        "id": "-Gv_mKhvvdct",
        "outputId": "4669c766-2236-40df-bbe9-ed57847cfc50"
      },
      "outputs": [
        {
          "output_type": "stream",
          "name": "stdout",
          "text": [
            "     x   y\n",
            "0    3   5\n",
            "1    7  11\n",
            "2   11  21\n",
            "3   15  16\n",
            "4   18  16\n",
            "5   27  28\n",
            "6   29  27\n",
            "7   30  25\n",
            "8   30  35\n",
            "9   31  30\n",
            "10  31  40\n",
            "11  32  32\n",
            "12  33  34\n",
            "13  33  32\n",
            "14  34  34\n",
            "15  36  37\n",
            "16  36  38\n",
            "17  36  34\n",
            "18  37  36\n",
            "19  38  38\n",
            "20  39  37\n",
            "21  39  36\n",
            "22  39  45\n",
            "23  40  39\n",
            "24  41  41\n",
            "25  42  40\n",
            "26  42  44\n",
            "27  43  37\n",
            "28  44  44\n",
            "29  45  46\n",
            "30  46  46\n",
            "31  47  49\n",
            "32  50  51\n"
          ]
        }
      ],
      "source": [
        "import pandas as pd\n",
        "from sklearn.model_selection import train_test_split\n",
        "\n",
        "#Lea el dataset,  lo convierta en un  DataFrame y lo imprima\n",
        "dataset = pd.read_csv('/content/peletería.csv')\n",
        "print(dataset)\n"
      ]
    },
    {
      "cell_type": "code",
      "source": [
        "\n",
        "#Mezclando instancias del DataFrame\n",
        "dataset = dataset.sample(frac=1, random_state=42)\n",
        "print('DataFrame mezclado')\n",
        "print(dataset)\n",
        "\n"
      ],
      "metadata": {
        "colab": {
          "base_uri": "https://localhost:8080/"
        },
        "id": "Ct6ZqCGrxXmi",
        "outputId": "bc8935ed-01ad-4eb8-b95f-14b285939052"
      },
      "execution_count": null,
      "outputs": [
        {
          "output_type": "stream",
          "name": "stdout",
          "text": [
            "DataFrame mezclado\n",
            "     x   y\n",
            "31  47  49\n",
            "15  36  37\n",
            "26  42  44\n",
            "17  36  34\n",
            "8   30  35\n",
            "9   31  30\n",
            "19  38  38\n",
            "21  39  36\n",
            "12  33  34\n",
            "0    3   5\n",
            "4   18  16\n",
            "16  36  38\n",
            "5   27  28\n",
            "13  33  32\n",
            "11  32  32\n",
            "24  41  41\n",
            "1    7  11\n",
            "2   11  21\n",
            "29  45  46\n",
            "3   15  16\n",
            "27  43  37\n",
            "23  40  39\n",
            "30  46  46\n",
            "22  39  45\n",
            "18  37  36\n",
            "25  42  40\n",
            "6   29  27\n",
            "20  39  37\n",
            "32  50  51\n",
            "7   30  25\n",
            "10  31  40\n",
            "14  34  34\n",
            "28  44  44\n"
          ]
        }
      ]
    },
    {
      "cell_type": "code",
      "source": [
        "#Separe las características del  DataFrame  y las  imprima\n",
        "x = dataset.loc[:,'x']\n",
        "print(x)\n",
        "\n",
        "y = dataset.loc[:,'y']\n",
        "print(y)"
      ],
      "metadata": {
        "colab": {
          "base_uri": "https://localhost:8080/"
        },
        "id": "VivgvOp_xZKO",
        "outputId": "bbbd7fbc-0e00-4660-833c-133d99456892"
      },
      "execution_count": null,
      "outputs": [
        {
          "output_type": "stream",
          "name": "stdout",
          "text": [
            "31    47\n",
            "15    36\n",
            "26    42\n",
            "17    36\n",
            "8     30\n",
            "9     31\n",
            "19    38\n",
            "21    39\n",
            "12    33\n",
            "0      3\n",
            "4     18\n",
            "16    36\n",
            "5     27\n",
            "13    33\n",
            "11    32\n",
            "24    41\n",
            "1      7\n",
            "2     11\n",
            "29    45\n",
            "3     15\n",
            "27    43\n",
            "23    40\n",
            "30    46\n",
            "22    39\n",
            "18    37\n",
            "25    42\n",
            "6     29\n",
            "20    39\n",
            "32    50\n",
            "7     30\n",
            "10    31\n",
            "14    34\n",
            "28    44\n",
            "Name: x, dtype: int64\n",
            "31    49\n",
            "15    37\n",
            "26    44\n",
            "17    34\n",
            "8     35\n",
            "9     30\n",
            "19    38\n",
            "21    36\n",
            "12    34\n",
            "0      5\n",
            "4     16\n",
            "16    38\n",
            "5     28\n",
            "13    32\n",
            "11    32\n",
            "24    41\n",
            "1     11\n",
            "2     21\n",
            "29    46\n",
            "3     16\n",
            "27    37\n",
            "23    39\n",
            "30    46\n",
            "22    45\n",
            "18    36\n",
            "25    40\n",
            "6     27\n",
            "20    37\n",
            "32    51\n",
            "7     25\n",
            "10    40\n",
            "14    34\n",
            "28    44\n",
            "Name: y, dtype: int64\n"
          ]
        }
      ]
    },
    {
      "cell_type": "code",
      "source": [
        "#Separe el dataset en un subconjunto de entrenamiento (50%) y un subconjunto de prueba (50%) y los imprima como salida\n",
        "#x_train, x_test, y_train, y_test = train_test_split(x,y,test_size=0.5,random_state=42)\n",
        "x_train, x_test, y_train, y_test = train_test_split(x,y,test_size=0.1,random_state=42)\n",
        "\n",
        "print('Subconjunto de entrenamiento x')\n",
        "print(x_train)\n",
        "print('Subconjunto de prueba x')\n",
        "print(x_test)\n",
        "print('Subconjunto de entrenamiento y')\n",
        "print(y_train)\n",
        "print('Subconjunto de prueba y')\n",
        "print(y_test)"
      ],
      "metadata": {
        "colab": {
          "base_uri": "https://localhost:8080/"
        },
        "id": "ibPXkKPOxcrI",
        "outputId": "17da29f6-a3dc-481a-fb8f-0ca2a95711eb"
      },
      "execution_count": null,
      "outputs": [
        {
          "output_type": "stream",
          "name": "stdout",
          "text": [
            "Subconjunto de entrenamiento x\n",
            "12    33\n",
            "0      3\n",
            "3     15\n",
            "23    40\n",
            "5     27\n",
            "31    47\n",
            "8     30\n",
            "1      7\n",
            "9     31\n",
            "13    33\n",
            "16    36\n",
            "18    37\n",
            "15    36\n",
            "26    42\n",
            "7     30\n",
            "17    36\n",
            "20    39\n",
            "22    39\n",
            "10    31\n",
            "30    46\n",
            "29    45\n",
            "25    42\n",
            "19    38\n",
            "27    43\n",
            "28    44\n",
            "21    39\n",
            "4     18\n",
            "11    32\n",
            "32    50\n",
            "Name: x, dtype: int64\n",
            "Subconjunto de prueba x\n",
            "14    34\n",
            "24    41\n",
            "6     29\n",
            "2     11\n",
            "Name: x, dtype: int64\n",
            "Subconjunto de entrenamiento y\n",
            "12    34\n",
            "0      5\n",
            "3     16\n",
            "23    39\n",
            "5     28\n",
            "31    49\n",
            "8     35\n",
            "1     11\n",
            "9     30\n",
            "13    32\n",
            "16    38\n",
            "18    36\n",
            "15    37\n",
            "26    44\n",
            "7     25\n",
            "17    34\n",
            "20    37\n",
            "22    45\n",
            "10    40\n",
            "30    46\n",
            "29    46\n",
            "25    40\n",
            "19    38\n",
            "27    37\n",
            "28    44\n",
            "21    36\n",
            "4     16\n",
            "11    32\n",
            "32    51\n",
            "Name: y, dtype: int64\n",
            "Subconjunto de prueba y\n",
            "14    34\n",
            "24    41\n",
            "6     27\n",
            "2     21\n",
            "Name: y, dtype: int64\n"
          ]
        }
      ]
    }
  ]
}
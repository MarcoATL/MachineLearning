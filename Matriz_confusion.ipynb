{
  "nbformat": 4,
  "nbformat_minor": 0,
  "metadata": {
    "colab": {
      "provenance": [],
      "authorship_tag": "ABX9TyPc+wQwn/17uOoUsZT9ZLok",
      "include_colab_link": true
    },
    "kernelspec": {
      "name": "python3",
      "display_name": "Python 3"
    },
    "language_info": {
      "name": "python"
    }
  },
  "cells": [
    {
      "cell_type": "markdown",
      "metadata": {
        "id": "view-in-github",
        "colab_type": "text"
      },
      "source": [
        "<a href=\"https://colab.research.google.com/github/MarcoATL/MachineLearning/blob/main/Matriz_confusion.ipynb\" target=\"_parent\"><img src=\"https://colab.research.google.com/assets/colab-badge.svg\" alt=\"Open In Colab\"/></a>"
      ]
    },
    {
      "cell_type": "code",
      "execution_count": null,
      "metadata": {
        "colab": {
          "base_uri": "https://localhost:8080/"
        },
        "id": "ssA4sbLOCVHz",
        "outputId": "d947d2fc-87d6-4688-eb81-611043051cd0"
      },
      "outputs": [
        {
          "output_type": "stream",
          "name": "stdout",
          "text": [
            "Matriz de confusión:\n",
            " [[2 1 0]\n",
            " [1 2 1]\n",
            " [0 0 2]]\n",
            "Recall:\n",
            " [0.66666667 0.5        1.        ]\n",
            "Precisión:\n",
            " [0.66666667 0.66666667 0.66666667]\n",
            "Exactitud:\n",
            " 0.6666666666666666\n"
          ]
        }
      ],
      "source": [
        "from sklearn.metrics import confusion_matrix, recall_score, precision_score, accuracy_score\n",
        "\n",
        "clases_predichas = [1,1,2,2,3,3,2,3,1,2,3,3 ]\n",
        "clases_reales = [1,1,2,1,2,3,2,3,1,3,3,3] \n",
        "\n",
        "clases_predichas = [1,1,2,2,3,3,2,3,1]\n",
        "clases_reales = [1,1,2,1,2,3,2,3,2]\n",
        "# Matriz de confusión\n",
        "matriz_confusion = confusion_matrix(clases_reales, clases_predichas)\n",
        "print(\"Matriz de confusión:\\n\", matriz_confusion)\n",
        "\n",
        "# Recall\n",
        "recall = recall_score(clases_reales, clases_predichas, average=None)\n",
        "print(\"Recall:\\n\", recall)\n",
        "\n",
        "# Precisión\n",
        "precision = precision_score(clases_reales, clases_predichas, average=None)\n",
        "print(\"Precisión:\\n\", precision)\n",
        "\n",
        "# Exactitud\n",
        "exactitud = accuracy_score(clases_reales, clases_predichas)\n",
        "print(\"Exactitud:\\n\", exactitud)\n"
      ]
    }
  ]
}
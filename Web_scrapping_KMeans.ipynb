{
  "nbformat": 4,
  "nbformat_minor": 0,
  "metadata": {
    "colab": {
      "provenance": [],
      "authorship_tag": "ABX9TyMz2XBdoJptOj9to3gJ1J9E",
      "include_colab_link": true
    },
    "kernelspec": {
      "name": "python3",
      "display_name": "Python 3"
    },
    "language_info": {
      "name": "python"
    }
  },
  "cells": [
    {
      "cell_type": "markdown",
      "metadata": {
        "id": "view-in-github",
        "colab_type": "text"
      },
      "source": [
        "<a href=\"https://colab.research.google.com/github/MarcoATL/MachineLearning/blob/main/Web_scrapping_KMeans.ipynb\" target=\"_parent\"><img src=\"https://colab.research.google.com/assets/colab-badge.svg\" alt=\"Open In Colab\"/></a>"
      ]
    },
    {
      "cell_type": "markdown",
      "source": [
        "# Web Scrapping (Comedores Dico)"
      ],
      "metadata": {
        "id": "K-ghukglPnCs"
      }
    },
    {
      "cell_type": "code",
      "execution_count": null,
      "metadata": {
        "colab": {
          "base_uri": "https://localhost:8080/"
        },
        "id": "WMXxhF0-Equd",
        "outputId": "e3f90b2e-bb5e-4006-a34f-39221616f03d"
      },
      "outputs": [
        {
          "output_type": "stream",
          "name": "stdout",
          "text": [
            "80\n",
            "80\n",
            "[9, 10, 11, 12, 13, 14, 17, 18, 19, 20, 27, 28, 29, 30, 31, 32, 35, 36, 37, 38, 41, 42, 47, 48, 49, 50, 57, 58, 59, 60, 67, 68, 69, 70, 73, 74, 75, 76, 79, 80]\n",
            "40\n",
            "40\n"
          ]
        }
      ],
      "source": [
        "import requests\n",
        "from bs4 import BeautifulSoup\n",
        "import csv\n",
        "import numpy\n",
        "\n",
        "URL = \"https://dico.com.mx/df/comedor.html\"\n",
        "\n",
        "page = requests.get(URL, headers= {'User-Agent': 'Mozilla/5.0'})#obtiene el contenido de una pagina web\n",
        "#'User-Agent' permite a los servidores identificar nuestro programa\n",
        "soup = BeautifulSoup(page.content, \"html.parser\")#crea la sopa: arbol de obbjetos que representan\n",
        "                                                  #el parses analiza una cadena de símbolos y transfoma\n",
        "\n",
        "results = soup.find_all(class_=\"product details product-item-details\")#busqueda de elementos deseados\n",
        "sillas = soup.find_all(class_=\"incluye\")\n",
        "precio = soup.find_all(class_=\"price\")\n",
        "\n",
        "\n",
        "f= open('precios_dico.html',\"w\")\n",
        "f.write(str(soup))\n",
        "f.close()\n",
        "\n",
        "#####################################################################\n",
        "with open('precios_dico.csv','w') as csvfile:\n",
        "  fieldnames = ['metros cuadrados','ID','Precios']\n",
        "  writer = csv.DictWriter(csvfile,fieldnames=fieldnames)\n",
        "  writer.writeheader()\n",
        "#####################################################################\n",
        "\n",
        "a=0\n",
        "\n",
        "for resul in sillas:\n",
        "  x=resul.getText().split()\n",
        "  a+=1\n",
        "  if (len(x)>=11):\n",
        "    dimensionX=x[3]\n",
        "    dimensionY=x[5]\n",
        "    if ((dimensionX.isdigit()==True) and (dimensionY.isdigit()==True)):\n",
        "      dimension=(int(dimensionX)*int(dimensionY))/10000\n",
        "      #print(dimension)\n",
        "      with open('precios_dico.csv','a') as csvfile:\n",
        "        fieldnames=['metros cuadrados','ID']\n",
        "        writer=csv.DictWriter(csvfile,fieldnames=fieldnames)\n",
        "        writer.writerow({'metros cuadrados':dimension,'ID':a})\n",
        "\n",
        "Id=[]\n",
        "with open('precios_dico.csv',\"r\") as File:\n",
        "    csv_reader = csv.reader(File)\n",
        "    list_of_rows = list(csv_reader)\n",
        "    #print(list_of_rows)\n",
        "    \n",
        "    for i in list_of_rows:\n",
        "        Id.append(i[1])\n",
        "    Id.pop(0)\n",
        "    Id = list(map(int,Id))\n",
        "    print(Id)\n",
        "\n",
        "Lista_Precios=[]\n",
        "Precios_finales=[]\n",
        "for cash in precio:\n",
        "  X = cash.getText().split()\n",
        "  Precios = X[0].replace(\",\",\"\")\n",
        "  Precios = Precios.replace(\"$\",\"\")\n",
        "  Precios = Precios.replace(\".00\",\"\")\n",
        "  Lista_Precios.append(int(Precios))\n",
        "  #print(Precios)\n",
        "\n",
        "\n",
        "for j in range(len(Id)):\n",
        "  numero = Id[j]\n",
        "  Precios_finales.append(int(Lista_Precios[j]))\n",
        "  with open('precios_dico.csv','a') as csvfile:\n",
        "        fieldnames=['Precios']\n",
        "        writer=csv.DictWriter(csvfile,fieldnames=fieldnames)\n",
        "        writer.writerow({'Precios':Precios_finales[j]})\n"
      ]
    },
    {
      "cell_type": "markdown",
      "source": [
        "#Algoritmo de agrupación K-Means"
      ],
      "metadata": {
        "id": "9a2Kr9ADsIBx"
      }
    },
    {
      "cell_type": "code",
      "source": [
        "import numpy as np\n",
        "import matplotlib.pyplot as plt\n",
        "import pandas as pd\n",
        "\n",
        "# Carga del conjunto de datos\n",
        "dataset = pd.read_csv('precios_comedores.csv')\n",
        "X = dataset.iloc[:, [0, 2]].values"
      ],
      "metadata": {
        "id": "mDQq_0gqsMto"
      },
      "execution_count": null,
      "outputs": []
    },
    {
      "cell_type": "code",
      "source": [
        "from sklearn.cluster import KMeans\n",
        "wcss = []\n",
        "for i in range(1, 11):\n",
        "    kmeans = KMeans(n_clusters = i, init = 'k-means++', random_state = 42)\n",
        "    kmeans.fit(X)\n",
        "    wcss.append(kmeans.inertia_)\n",
        "\n",
        "# Grafica de la suma de las distancias\n",
        "plt.plot(range(1, 11), wcss)\n",
        "plt.title('Método de codo')\n",
        "plt.xlabel('Numero de clusters')\n",
        "plt.ylabel('WCSS(sumas de cuadrados dentro de un grupo)')\n",
        "plt.show()"
      ],
      "metadata": {
        "colab": {
          "base_uri": "https://localhost:8080/",
          "height": 295
        },
        "id": "F1iMoE8NtO8V",
        "outputId": "845d829d-f75b-4708-8d02-5840ff545d88"
      },
      "execution_count": null,
      "outputs": [
        {
          "output_type": "display_data",
          "data": {
            "text/plain": [
              "<Figure size 432x288 with 1 Axes>"
            ],
            "image/png": "[encoded data removed]"
          },
          "metadata": {
            "needs_background": "light"
          }
        }
      ]
    },
    {
      "cell_type": "code",
      "source": [
        "# Creando el k-Means para los 3 grupos encontrados\n",
        "kmeans = KMeans(n_clusters = 3, init = 'k-means++', random_state = 42)\n",
        "y_kmeans = kmeans.fit_predict(X)"
      ],
      "metadata": {
        "id": "RUpsEHGntaP9"
      },
      "execution_count": null,
      "outputs": []
    },
    {
      "cell_type": "code",
      "source": [
        "# Visualizacion grafica de los clusters\n",
        "plt.scatter(X[y_kmeans == 0, 0], X[y_kmeans == 0, 1], s = 100, c = 'red', label = 'Cluster 1')\n",
        "plt.scatter(X[y_kmeans == 1, 0], X[y_kmeans == 1, 1], s = 100, c = 'blue', label = 'Cluster 2')\n",
        "plt.scatter(X[y_kmeans == 2, 0], X[y_kmeans == 2, 1], s = 100, c = 'green', label = 'Cluster 3')\n",
        "\n",
        "\n",
        "plt.scatter(kmeans.cluster_centers_[:, 0], kmeans.cluster_centers_[:, 1], s = 200, c = 'black', label = 'Centroids')\n",
        "\n",
        "plt.title('Comedores en muebles Dico')\n",
        "plt.xlabel('Tamaño de comedor en metros cuadrados')\n",
        "plt.ylabel('Precio en peso mexicano')\n",
        "plt.legend()\n",
        "plt.show()"
      ],
      "metadata": {
        "colab": {
          "base_uri": "https://localhost:8080/",
          "height": 295
        },
        "id": "lpRLs4cctkbA",
        "outputId": "6870780b-d803-4434-ebb5-62f82c72c72b"
      },
      "execution_count": null,
      "outputs": [
        {
          "output_type": "display_data",
          "data": {
            "text/plain": [
              "<Figure size 432x288 with 1 Axes>"
            ],
            "image/png": "[encoded data removed]"
          },
          "metadata": {
            "needs_background": "light"
          }
        }
      ]
    }
  ]
}